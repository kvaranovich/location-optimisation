{
 "cells": [
  {
   "cell_type": "markdown",
   "metadata": {},
   "source": [
    "# Graph Aggregation"
   ]
  },
  {
   "cell_type": "markdown",
   "metadata": {},
   "source": [
    "## Getting Data"
   ]
  },
  {
   "cell_type": "code",
   "execution_count": 1,
   "metadata": {},
   "outputs": [
    {
     "data": {
      "text/plain": [
       "location_optimization_radius (generic function with 5 methods)"
      ]
     },
     "execution_count": 1,
     "metadata": {},
     "output_type": "execute_result"
    }
   ],
   "source": [
    "using OpenStreetMapX\n",
    "using JLD\n",
    "using CSV\n",
    "using DataFrames\n",
    "using StatsBase\n",
    "using JuMP\n",
    "using Gurobi\n",
    "using H3.API\n",
    "\n",
    "include(\"../src/data/osm.jl\")\n",
    "include(\"../src/data/distance_matrix.jl\")\n",
    "include(\"../src/optimisation/mip/p_mp_model.jl\")\n",
    "include(\"../src/optimisation/metrics.jl\")\n",
    "include(\"../src/optimisation/iterative/optimisation.jl\")"
   ]
  },
  {
   "cell_type": "code",
   "execution_count": 2,
   "metadata": {},
   "outputs": [],
   "source": [
    "LOCATION = \"winnipeg\"\n",
    "DIR_PATH = \"../osm_maps/\" * LOCATION * \"/\"\n",
    "OSM_PATH = DIR_PATH * \"map.osm\"\n",
    "\n",
    "isdir(DIR_PATH) ? nothing : mkdir(DIR_PATH)\n",
    "isfile(OSM_PATH) ? nothing : get_osm_by_bbox(-97.3581, 49.7147, -96.9475, 49.9954, OSM_PATH)"
   ]
  },
  {
   "cell_type": "code",
   "execution_count": 3,
   "metadata": {
    "scrolled": true
   },
   "outputs": [
    {
     "name": "stderr",
     "output_type": "stream",
     "text": [
      "┌ Info: Read map data from cache ../osm_maps/winnipeg\\map.osm.cache\n",
      "└ @ OpenStreetMapX C:\\Users\\Kiryl\\.julia\\packages\\OpenStreetMapX\\Yo58L\\src\\parseMap.jl:93\n"
     ]
    },
    {
     "data": {
      "text/plain": [
       "MapData(OpenStreetMapX.Bounds{LLA}(49.7147, 49.9954, -97.3581, -96.9475), Dict{Int64, ENU}(7799632408 => ENU(1494.130907217481, 4152.141303999004, -1.5273067814109709), 285736360 => ENU(1101.5882285733383, -15065.239259369318, -17.90216221123228), 1488823329 => ENU(7897.341566968542, -2778.649740685668, -5.485410342386103), 741689169 => ENU(-12734.403532880367, -9770.036591763856, -20.17696398425869), 256153327 => ENU(-7823.9314265355515, 4328.561832938522, -6.259356765273878), 631381980 => ENU(-1886.773140262505, 12270.444491945469, -12.091470101295272), 2675696260 => ENU(4681.149026966116, 8111.047167332585, -6.876158216364274), 136147026 => ENU(5277.55875406265, 3364.7416652434094, -3.067432797258334), 1227198431 => ENU(2756.332940129022, 6635.241107579223, -4.048647734779024), 1112293467 => ENU(1331.3070969172638, -797.750121809354, -0.18860118046427488)…), OpenStreetMapX.Way[OpenStreetMapX.Way(4443871, [27286480, 27286484, 34040347, 27286488, 27366907, 27286482, 27366892, 34040311, 27366915, 34040366, 2674869549, 2566870624, 1357876162, 2930328852, 2930328652, 2930328617, 27331842], Dict(\"name\" => \"Promenade Bournais Drive\", \"name:fr\" => \"Promenade Bournais\", \"highway\" => \"tertiary\", \"name:en\" => \"Bournais Drive\")), OpenStreetMapX.Way(4447134, [1224888499, 1224888514, 27308655, 27308657, 3591082381, 4695317637, 3591082380, 3591082379, 27308658, 27308659, 27308660, 3591082377, 3591082378, 4457349407, 27416010, 3591082376, 27353631, 4685172937], Dict(\"name\" => \"Rue Mission Street\", \"name:fr\" => \"Rue Mission\", \"highway\" => \"tertiary\", \"maxspeed\" => \"60\", \"name:en\" => \"Mission Street\")), OpenStreetMapX.Way(4449951, [27331819, 3645365020, 1738410212, 146877106, 136147022, 1296635975, 369959591], Dict(\"name\" => \"Chemin Dugald Road\", \"name:fr\" => \"Chemin Dugald\", \"highway\" => \"tertiary\", \"name:en\" => \"Dugald Road\")), OpenStreetMapX.Way(4452633, [280395494, 27353644, 1543808411, 420030512, 7967225700, 27416151], Dict(\"name\" => \"Saint Mary Avenue\", \"oneway\" => \"yes\", \"highway\" => \"tertiary\", \"maxspeed\" => \"50\")), OpenStreetMapX.Way(4452638, [27331820, 1224754396, 1224721395, 27496530, 146877110, 1224693312, 27333460, 6601568784, 6601598295, 3645371022  …  136147028, 128854631, 135287510, 135287512, 973209895, 4285406116, 135287514, 4285406117, 135287505, 135287501], Dict(\"name\" => \"Chemin Dawson Road North\", \"name:fr\" => \"Chemin Dawson Nord\", \"highway\" => \"tertiary\", \"name:en\" => \"Dawson Road North\")), OpenStreetMapX.Way(4452641, [33222475, 7830798546, 280140306, 7830798537, 33222479, 3566508853, 279979856, 7830798528, 33222478, 7830798525, 3144275755, 279991983, 7832669442, 27309728], Dict(\"name\" => \"Graham Avenue\", \"highway\" => \"tertiary\", \"bicycle\" => \"yes\", \"maxspeed\" => \"50\", \"psv\" => \"yes\", \"surface\" => \"asphalt\")), OpenStreetMapX.Way(4454098, [4695330900, 3599731682, 369954657], Dict(\"name\" => \"Owen Street\", \"highway\" => \"tertiary\")), OpenStreetMapX.Way(4479416, [27461237, 2066704686, 2066704817, 27461238], Dict(\"lit\" => \"yes\", \"name\" => \"Castle Avenue\", \"highway\" => \"tertiary\")), OpenStreetMapX.Way(4479417, [27461238, 2066704653, 2066704708, 27461239, 2675718878, 369946677, 28935699, 616945643, 3582695424, 2675718874  …  2675717460, 617495573, 2675704742, 617495529, 2675704737, 3575740784, 2675704717, 617495575, 621546182, 617495576], Dict(\"lit\" => \"yes\", \"name\" => \"Grey Street\", \"highway\" => \"tertiary\", \"maxspeed\" => \"50\")), OpenStreetMapX.Way(4486033, [27496532, 3109815476], Dict(\"name\" => \"Provencher Boulevard\", \"oneway\" => \"yes\", \"layer\" => \"1\", \"highway\" => \"secondary\", \"bridge\" => \"yes\", \"ref\" => \"Route 57\"))  …  OpenStreetMapX.Way(1005382200, [1321351361, 2799391343, 1321354794, 2799384289, 1321354796, 2799384288, 367128663, 2799379978, 2799377901, 133411419, 133411334, 2799131860, 2799349607, 1762856631], Dict(\"name\" => \"Pembina Highway\", \"oneway\" => \"yes\", \"foot\" => \"no\", \"highway\" => \"primary\", \"lanes\" => \"3\", \"maxspeed\" => \"60\", \"ref\" => \"Route 42\")), OpenStreetMapX.Way(1005382202, [1321356035, 2799131883, 2798948507, 128283577, 2758461560, 2798853831, 128283579, 2799136801, 2798852511], Dict(\"name\" => \"Pembina Highway\", \"oneway\" => \"yes\", \"foot\" => \"no\", \"highway\" => \"primary\", \"lanes\" => \"3\", \"maxspeed\" => \"60\", \"ref\" => \"Route 42\")), OpenStreetMapX.Way(1005382204, [1321351358, 2798820714], Dict(\"name\" => \"Pembina Highway\", \"oneway\" => \"yes\", \"foot\" => \"no\", \"highway\" => \"primary\", \"lanes\" => \"3\", \"maxspeed\" => \"60\", \"ref\" => \"Route 42\")), OpenStreetMapX.Way(1005382205, [2798777085, 2798814369], Dict(\"name\" => \"Pembina Highway\", \"oneway\" => \"yes\", \"foot\" => \"no\", \"highway\" => \"primary\", \"lanes\" => \"3\", \"maxspeed\" => \"60\", \"ref\" => \"Route 42\")), OpenStreetMapX.Way(1005382206, [2798820714, 2798777085], Dict(\"name\" => \"Pembina Highway\", \"oneway\" => \"yes\", \"foot\" => \"no\", \"highway\" => \"primary\", \"lanes\" => \"3\", \"maxspeed\" => \"60\", \"ref\" => \"Route 42\")), OpenStreetMapX.Way(1005382207, [2798819184, 128283581, 1321351358], Dict(\"name\" => \"Pembina Highway\", \"oneway\" => \"yes\", \"foot\" => \"no\", \"highway\" => \"primary\", \"lanes\" => \"3\", \"maxspeed\" => \"60\", \"ref\" => \"Route 42\")), OpenStreetMapX.Way(1005382209, [2799401692, 295238021], Dict(\"cycleway:right\" => \"lane\", \"name\" => \"Pembina Highway\", \"oneway\" => \"yes\", \"foot\" => \"no\", \"highway\" => \"primary\", \"lanes\" => \"3\", \"maxspeed\" => \"60\", \"surface\" => \"asphalt\", \"ref\" => \"Route 42\")), OpenStreetMapX.Way(1005382210, [2798852511, 2798819184], Dict(\"name\" => \"Pembina Highway\", \"oneway\" => \"yes\", \"foot\" => \"no\", \"highway\" => \"primary\", \"lanes\" => \"3\", \"maxspeed\" => \"60\", \"ref\" => \"Route 42\")), OpenStreetMapX.Way(1005382212, [1376406655, 128286592, 310190247, 286289315, 2799139274, 310190294, 1376419309, 310190295, 310192420], Dict(\"cycleway:right\" => \"lane\", \"name\" => \"Pembina Highway\", \"oneway\" => \"yes\", \"highway\" => \"primary\", \"lanes\" => \"3\", \"maxspeed\" => \"60\", \"surface\" => \"asphalt\", \"ref\" => \"Route 42\")), OpenStreetMapX.Way(1005382213, [1376406657, 310190521, 310190564, 128283591, 2795066206, 128283593, 2795031854, 128283595], Dict(\"cycleway:right\" => \"lane\", \"name\" => \"Pembina Highway\", \"oneway\" => \"yes\", \"highway\" => \"primary\", \"lanes\" => \"3\", \"maxspeed\" => \"60\", \"surface\" => \"asphalt\", \"ref\" => \"Route 42\"))], Dict{Int64, Set{Int64}}(2428190804 => Set([473345102, 473290997, 234578463]), 128583108 => Set([473731204, 473731208, 170956490]), 285736360 => Set([167687786, 77200951, 352673875]), 6598934129 => Set([773020544, 32613886, 773020546]), 741689169 => Set([476556136, 150149853, 59757857]), 2709909467 => Set([32657651, 265321785]), 1658443102 => Set([592269533, 153109327]), 1115858543 => Set([23644311, 473597549, 96263101]), 278613704 => Set([26378198, 587371934, 484486323]), 4785952268 => Set([485835629, 103020732])…), {5752, 9618} directed simple Int64 graph, Dict(2428190804 => 3654, 128583108 => 3489, 285736360 => 2277, 6598934129 => 1069, 741689169 => 2148, 2709909467 => 1217, 1658443102 => 3308, 1115858543 => 544, 278613704 => 766, 4785952268 => 2545…), [27286480, 27331842, 1224888499, 4685172937, 27331819, 3645365020, 136147022, 369959591, 280395494, 27353644  …  1434386829, 3564808397, 493885591, 9264691661, 9264691651, 2798852511, 1321351358, 2798820714, 2798777085, 2798819184], [(27286480, 27331842), (27331842, 27286480), (1224888499, 4685172937), (4685172937, 1224888499), (27331819, 3645365020), (3645365020, 27331819), (3645365020, 136147022), (136147022, 3645365020), (136147022, 369959591), (369959591, 136147022)  …  (1321356035, 2798852511), (1321351358, 2798820714), (2798777085, 2798814369), (2798820714, 2798777085), (2798819184, 1321351358), (2799401692, 295238021), (2798852511, 2798819184), (1376406655, 1376419309), (1376419309, 310192420), (1376406657, 128283595)], \n",
       "⢟⣷⣓⡨⢱⡆⠤⢧⠆⠿⠺⢭⣜⠀⠴⣀⢃⠂⠘⠇⠜⠀⢐⣌⢢⠂⠆⢀⠀⡚⠲⢦⡧⣒⢱⢭⠒⡡⡠⢐\n",
       "⣸⡸⢻⣾⣸⣓⣊⣙⡕⡎⡢⠭⣏⠜⢒⠣⢄⣬⢼⠧⠉⠄⡋⣘⣕⠇⣳⣠⢀⡌⡎⢒⠇⢁⠧⡸⠯⣺⠀⠆\n",
       "⠓⡺⣷⢻⣿⣿⣨⢳⣏⡴⡇⠠⣝⢚⣒⠂⢙⢷⣊⢃⠕⠀⡟⢈⢽⠒⡅⢘⢏⠀⠑⠁⡍⠔⠣⠠⢙⠏⣉⡅\n",
       "⢤⣋⣮⠸⢤⢚⢻⣾⣲⣳⠴⡄⢭⢩⣝⢁⢘⣉⠭⣚⢂⠀⡂⡳⠾⡀⡆⣊⣙⣌⢅⡢⠝⣘⣧⡜⠊⡓⡋⡣\n",
       "⡬⡂⡹⢥⢛⠱⢭⣺⣻⣞⣎⡆⡨⢈⢋⠁⡘⠩⢰⣬⡪⠀⣁⠢⢏⡅⡕⡀⠉⣅⣅⡲⢟⡨⣪⠂⠿⠤⡁⠌\n",
       "⡎⣂⡌⡂⠉⡏⠐⠇⠢⠵⠿⣧⡗⢈⠀⠰⠆⡘⠈⡛⢋⣈⠝⢧⠘⠉⠠⠂⠁⡀⡆⡹⣳⡇⢹⣾⡁⡸⠁⠀\n",
       "⠒⢙⢋⠝⡑⢸⡆⣚⣃⣒⡓⢑⠿⣗⣮⣷⣓⣵⣗⢀⢠⢐⠐⡐⢎⠀⠂⡹⡲⢒⡣⠨⡍⡵⠒⢠⡢⠋⣒⡥\n",
       "⠚⣡⠞⣔⠰⠀⠗⠝⠃⠐⠀⡀⣟⣽⡿⣿⣛⡵⡗⢀⢦⢀⡲⡐⣸⢆⡡⢖⢔⠍⢎⢃⡁⢺⣄⠏⠗⢆⣂⢇\n",
       "⢉⣈⡒⡳⢖⣲⡆⢰⠖⢈⣈⠡⢽⣬⢷⡤⠹⣦⣾⣄⡔⠈⡆⢜⣶⢡⠨⡠⡰⠜⡯⡤⡈⣱⡺⣨⣱⢀⠁⠕\n",
       "⠐⠀⢳⣶⠟⢘⣣⢷⡐⣶⣤⠨⠙⢙⠈⢈⠛⢵⠻⣦⡬⠀⡺⣿⠜⠫⠤⠈⠛⠩⢞⠂⣊⢋⣇⣺⡀⠟⡮⢑\n",
       "⠐⠁⢂⠀⠃⠁⠘⠂⠈⠂⡉⢰⠐⢒⠒⢓⠐⠉⠂⢉⠛⣦⡑⢓⡚⡊⣙⡇⠠⠀⠖⢋⢢⠔⢲⢰⡀⢆⠂⡈\n",
       "⣈⢅⣨⢩⣋⢋⠌⠨⠃⢘⠿⣅⠒⠠⢘⠶⡌⢅⣾⣮⢧⢨⠿⣧⣮⣠⢍⠑⢀⢉⣧⡣⣥⢂⢲⡣⠶⣺⠁⣠\n",
       "⠰⢒⠑⠝⠷⠓⠚⠋⠎⠵⡖⠜⠂⠑⠢⢌⠒⣉⡖⡈⡺⠨⠂⣷⢛⣶⢴⡼⠨⢥⢷⢲⢍⠐⠛⠅⠭⠋⠁⠕\n",
       "⠀⠁⡚⣞⣣⣉⡸⢡⠅⠩⠤⠂⢈⡠⢣⢲⠀⣠⣀⠁⢡⠼⣃⠑⡒⡿⢑⣤⢴⠗⢜⠸⡀⡈⢨⠇⠉⡈⡈⡹\n",
       "⢈⠠⢠⠰⠃⡴⡇⢜⠓⢄⠀⢀⢼⢊⢜⠕⣸⠎⣗⠀⠀⠀⡇⠀⠆⣃⢤⠗⡟⣯⠂⣀⡀⠲⠀⠠⢸⡰⡴⢐\n",
       "⡺⡏⢪⢍⢷⠈⠁⡳⢥⣩⣝⡩⡋⡺⠩⢛⡋⡏⠻⠰⡸⢁⠬⡻⢱⣓⣒⢙⠈⢐⡵⣯⣇⡁⡘⡟⠲⣗⠐⢉\n",
       "⠈⢩⠍⢁⢁⠭⣅⢁⡛⡱⠽⠿⣳⡭⣅⡈⢇⣨⡍⢐⠀⠖⠼⠸⠎⠀⡁⠈⢰⡌⡏⠸⡳⢮⣞⣽⢃⠂⢁⠮\n",
       "⡽⢔⣣⠣⠈⡣⣹⠝⠮⢈⣒⣖⡔⣠⡠⣽⡜⢊⠩⣹⣑⣒⠼⡖⠧⠄⠦⠆⢀⢌⣶⠼⡈⡽⡿⣭⡧⣵⠔⡀\n",
       "⢠⠡⠧⣁⠴⣅⣮⠄⢟⡃⣁⢸⡥⠈⠽⣭⠓⠊⡰⡞⢀⠉⣪⢭⠴⡃⡃⣃⢀⢐⣭⠆⡡⠐⡝⢝⣻⣾⣾⢃\n",
       "⠠⢋⠀⠆⠫⠈⠍⡨⡣⠝⠀⠀⡸⠬⢐⠔⢍⠌⢞⣏⣨⠀⡃⣠⣄⠀⠇⡢⢰⠋⠑⢠⠰⡥⠀⠅⠾⢾⣻⣦, [5, 5, 5, 5, 5, 5, 5, 5, 5, 5  …  3, 3, 3, 3, 3, 3, 3, 3, 3, 3])"
      ]
     },
     "execution_count": 3,
     "metadata": {},
     "output_type": "execute_result"
    }
   ],
   "source": [
    "mx = get_map_data(OSM_PATH, use_cache=true, road_levels=Set(1:5), trim_to_connected_graph = true)"
   ]
  },
  {
   "cell_type": "markdown",
   "metadata": {},
   "source": [
    "## Processing Data"
   ]
  },
  {
   "cell_type": "code",
   "execution_count": 4,
   "metadata": {},
   "outputs": [
    {
     "data": {
      "text/plain": [
       "Dict{Int64, Tuple{Vector{Int64}, Vector{Float64}}} with 5752 entries:\n",
       "  2428190804 => ([2428190804, 128583108, 285736360, 6598934129, 741689169, 2709…\n",
       "  128583108  => ([2428190804, 128583108, 285736360, 6598934129, 741689169, 2709…\n",
       "  285736360  => ([2428190804, 128583108, 285736360, 6598934129, 741689169, 2709…\n",
       "  6598934129 => ([2428190804, 128583108, 285736360, 6598934129, 741689169, 2709…\n",
       "  741689169  => ([2428190804, 128583108, 285736360, 6598934129, 741689169, 2709…\n",
       "  2709909467 => ([2428190804, 128583108, 285736360, 6598934129, 741689169, 2709…\n",
       "  1658443102 => ([2428190804, 128583108, 285736360, 6598934129, 741689169, 2709…\n",
       "  1115858543 => ([2428190804, 128583108, 285736360, 6598934129, 741689169, 2709…\n",
       "  278613704  => ([2428190804, 128583108, 285736360, 6598934129, 741689169, 2709…\n",
       "  4785952268 => ([2428190804, 128583108, 285736360, 6598934129, 741689169, 2709…\n",
       "  3131822521 => ([2428190804, 128583108, 285736360, 6598934129, 741689169, 2709…\n",
       "  1512335051 => ([2428190804, 128583108, 285736360, 6598934129, 741689169, 2709…\n",
       "  128252045  => ([2428190804, 128583108, 285736360, 6598934129, 741689169, 2709…\n",
       "  1526933313 => ([2428190804, 128583108, 285736360, 6598934129, 741689169, 2709…\n",
       "  1824855017 => ([2428190804, 128583108, 285736360, 6598934129, 741689169, 2709…\n",
       "  1119460552 => ([2428190804, 128583108, 285736360, 6598934129, 741689169, 2709…\n",
       "  364877168  => ([2428190804, 128583108, 285736360, 6598934129, 741689169, 2709…\n",
       "  280398024  => ([2428190804, 128583108, 285736360, 6598934129, 741689169, 2709…\n",
       "  4695317661 => ([2428190804, 128583108, 285736360, 6598934129, 741689169, 2709…\n",
       "  770670086  => ([2428190804, 128583108, 285736360, 6598934129, 741689169, 2709…\n",
       "  1113293720 => ([2428190804, 128583108, 285736360, 6598934129, 741689169, 2709…\n",
       "  272813021  => ([2428190804, 128583108, 285736360, 6598934129, 741689169, 2709…\n",
       "  4780929808 => ([2428190804, 128583108, 285736360, 6598934129, 741689169, 2709…\n",
       "  280397877  => ([2428190804, 128583108, 285736360, 6598934129, 741689169, 2709…\n",
       "  1658443261 => ([2428190804, 128583108, 285736360, 6598934129, 741689169, 2709…\n",
       "  ⋮          => ⋮"
      ]
     },
     "execution_count": 4,
     "metadata": {},
     "output_type": "execute_result"
    }
   ],
   "source": [
    "TREES_PATH = DIR_PATH * \"trees.jld\"\n",
    "METRIC = \"time\"\n",
    "\n",
    "if isfile(TREES_PATH)\n",
    "    node_data = load(TREES_PATH, \"node_data\")\n",
    "else\n",
    "    node_data = create_distance_trees(mx, METRIC)\n",
    "    save(TREES_PATH, \"node_data\", node_data)\n",
    "end"
   ]
  },
  {
   "cell_type": "code",
   "execution_count": 5,
   "metadata": {
    "scrolled": true
   },
   "outputs": [
    {
     "data": {
      "text/plain": [
       "5752×5752 Matrix{Int64}:\n",
       "    0  387  1028   389  1154   588  …   797   787   517  723   830   904\n",
       "  418    0   713   539   860   517      669   660   130  429   466   777\n",
       " 1048  770     0  1130   796  1087     1066  1138   682  620   549  1254\n",
       "  396  549  1133     0  1184   552      770   760   670  754   889   877\n",
       " 1153  917   764  1181     0  1010      702   791   850  457   608   674\n",
       "  567  543  1097   561  1011     0  …   553   543   646  581   732   660\n",
       "  563  549  1103   269  1154   288      695   685   652  724   859   802\n",
       "  767  674  1071   768   739   568       85   214   750  482   633   285\n",
       "  672  579   894   673   735   460      170   299   608  305   456   371\n",
       "  727  415   353   775   592   732      710   782   327  265   291   899\n",
       " 1135  871   613  1231   424  1096  …   993  1065   783  547   461  1019\n",
       "  783  471   344   831   583   789      767   839   383  321   335   956\n",
       "  622  578   854   983  1079  1040     1193  1184   592  827   831  1300\n",
       "    ⋮                            ⋮  ⋱                            ⋮  \n",
       "  199  563  1204   559  1330   759  …   968   959   693  899  1007  1076\n",
       "  821  729  1183   822   721   603      226   193   805  594   745   233\n",
       "  370  326   743   731   967   789      941   932   340  576   601  1049\n",
       "  834  929  1462   530  1176   469      845   836  1033  873  1025   891\n",
       "  540  304   620   567   672   525      578   635   301  241   376   752\n",
       "  738  471   581   765   624   723  …   638   710   383  194   223   827\n",
       "  682  589  1043   682   688   483        0   128   665  454   605   200\n",
       "  758  666  1120   759   807   543      212     0   742  531   682   320\n",
       "  464  116   698   591   843   552      673   663     0  412   451   780\n",
       "  751  481   589   779   491   609      506   578   393    0   151   694\n",
       "  876  564   490   935   578   765  …   662   734   476  216     0   851\n",
       "  872  779  1234   873   693   674      277   319   855  645   796     0"
      ]
     },
     "execution_count": 5,
     "metadata": {},
     "output_type": "execute_result"
    }
   ],
   "source": [
    "DISTANCE_MATRIX_PATH = DIR_PATH * \"distance_matrix.jld\"\n",
    "NODE_IDS_PATH = DIR_PATH * \"node_ids.jld\"\n",
    "\n",
    "\n",
    "if isfile(DISTANCE_MATRIX_PATH) & isfile(NODE_IDS_PATH)\n",
    "    all_node_ids = load(NODE_IDS_PATH, \"all_node_ids\")\n",
    "    distance_matrix = load(DISTANCE_MATRIX_PATH, \"distance_matrix\")\n",
    "else\n",
    "    all_node_ids = collect(keys(node_data))    \n",
    "    distance_matrix = build_distance_matrix_graph(all_node_ids, all_node_ids, node_data)\n",
    "end"
   ]
  },
  {
   "cell_type": "markdown",
   "metadata": {},
   "source": [
    "## Geo to H3 conversion"
   ]
  },
  {
   "cell_type": "code",
   "execution_count": 6,
   "metadata": {
    "scrolled": true
   },
   "outputs": [
    {
     "data": {
      "text/plain": [
       "1402-element Vector{Int64}:\n",
       "           369959746\n",
       "           503628052\n",
       "           285736360\n",
       "          7217517351\n",
       "          7539516274\n",
       "          2709909467\n",
       "          1439029916\n",
       "          1115858543\n",
       "           367112902\n",
       "           764639249\n",
       "          3131822521\n",
       "          1512335077\n",
       "           128868001\n",
       "                   ⋮\n",
       " 1022857356427403792\n",
       "           467808583\n",
       "            81960916\n",
       "          2086667444\n",
       "           272499055\n",
       "           128201569\n",
       "          2783567430\n",
       "           367039628\n",
       "           281136905\n",
       "          1705375652\n",
       "          2011366697\n",
       "           339928859"
      ]
     },
     "execution_count": 6,
     "metadata": {},
     "output_type": "execute_result"
    }
   ],
   "source": [
    "H3_RESOLUTION = 9\n",
    "\n",
    "nodes_ids = [x for x in keys(mx.v)] #finding all node ids\n",
    "geo_points = [(LLA(mx.nodes[x], mx.bounds).lat, LLA(mx.nodes[x], mx.bounds).lon) for x in nodes_ids] # for each node converting to lat, lng\n",
    "h3s = [geoToH3(GeoCoord(deg2rad(x[1]), deg2rad(x[2])), H3_RESOLUTION) for x in geo_points] # geo point -> h3\n",
    "unique_h3s = unique(h3s)\n",
    "h3_centroids = [(rad2deg(h3ToGeo(x).lat), rad2deg(h3ToGeo(x).lon)) for x in unique_h3s] # centroid of each h3\n",
    "centroids_nodes = [point_to_nodes(x, mx) for x in h3_centroids] # each centroid -> node id"
   ]
  },
  {
   "cell_type": "code",
   "execution_count": 7,
   "metadata": {},
   "outputs": [
    {
     "data": {
      "text/plain": [
       "1402×1402 Matrix{Int64}:\n",
       "    0   389  1021   373  1146   581  …  1147   469   543   248   283   743\n",
       "  530     0   704   640   861   627     1137   617   560   750   784   376\n",
       " 1054   713     0  1120   795  1087     1504  1097  1020  1275  1298   560\n",
       "  394   540  1124     0  1175   544     1118   270   514   274   654   799\n",
       " 1164   858   755  1175     0  1014      792  1152   906  1384  1418   613\n",
       "  574   542  1097   551  1010     0  …   910   351   169   801   857   733\n",
       "  566   552  1107   263  1157   292     1004   126   299   511   850   782\n",
       "  774   674  1071   758   737   568      535   734   460  1022  1057   634\n",
       "  683   552   899   668   739   465      628   644   356   931   966   462\n",
       "  738   362   354   770   591   737     1154   746   669   959   992   209\n",
       " 1142   814   613  1222   423  1096  …  1134  1198   988  1362  1385   566\n",
       "  795   419   349   827   587   794     1210   803   726  1015  1049   266\n",
       "  514   472   739   859   963   926     1435   915   858   734   765   657\n",
       "    ⋮                             ⋮  ⋱                             ⋮  \n",
       "  582   889  1473   364  1524   883  …  1467   619   863   343   842  1148\n",
       "  651   345   615   662   623   629     1077   639   562   871   905   230\n",
       "  585   943  1344   628  1567  1136     1704   862  1100   427   334  1266\n",
       "  173   540  1172   319  1297   726     1292   553   688   194   358   894\n",
       "  539   463   998   523   901   268      784   381   156   787   822   624\n",
       "  588   546   805   933  1029  1000  …  1509   989   932   808   841   732\n",
       " 1130  1030  1485  1114   802   908        0  1055   817  1378  1413  1048\n",
       "  461   513  1097   269  1147   343     1056     0   351   542   744   772\n",
       "  540   464  1018   524   919   208      819   351     0   788   823   642\n",
       "  261   629  1261   305  1385   813     1380   539   777     0   521   982\n",
       "  304   670  1302   648  1427   857  …  1423   745   819   523     0  1024\n",
       "  648   272   471   701   684   668     1138   677   600   868   901     0"
      ]
     },
     "execution_count": 7,
     "metadata": {},
     "output_type": "execute_result"
    }
   ],
   "source": [
    "agg_distance_matrix = build_distance_matrix_graph(centroids_nodes, centroids_nodes, node_data)"
   ]
  },
  {
   "cell_type": "code",
   "execution_count": 8,
   "metadata": {},
   "outputs": [],
   "source": [
    "LOCATION = \"winnipeg_agg_\" * string(H3_RESOLUTION)\n",
    "DIR_PATH = \"../osm_maps/\" * LOCATION * \"/\"\n",
    "DISTANCE_MATRIX_PATH = DIR_PATH * \"distance_matrix.jld\"\n",
    "NODE_IDS_PATH = DIR_PATH * \"node_ids.jld\"\n",
    "\n",
    "save(DISTANCE_MATRIX_PATH, \"distance_matrix\", agg_distance_matrix)\n",
    "save(NODE_IDS_PATH, \"all_node_ids\", centroids_nodes)"
   ]
  },
  {
   "cell_type": "code",
   "execution_count": null,
   "metadata": {},
   "outputs": [],
   "source": []
  }
 ],
 "metadata": {
  "kernelspec": {
   "display_name": "Julia 1.6.4",
   "language": "julia",
   "name": "julia-1.6"
  },
  "language_info": {
   "file_extension": ".jl",
   "mimetype": "application/julia",
   "name": "julia",
   "version": "1.6.4"
  },
  "toc": {
   "base_numbering": 1,
   "nav_menu": {},
   "number_sections": true,
   "sideBar": true,
   "skip_h1_title": false,
   "title_cell": "Table of Contents",
   "title_sidebar": "Contents",
   "toc_cell": false,
   "toc_position": {},
   "toc_section_display": true,
   "toc_window_display": false
  }
 },
 "nbformat": 4,
 "nbformat_minor": 4
}
